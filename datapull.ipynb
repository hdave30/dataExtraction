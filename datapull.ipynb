{
 "cells": [
  {
   "cell_type": "code",
   "execution_count": 1,
   "metadata": {
    "collapsed": false
   },
   "outputs": [],
   "source": [
    "import pandas as pd\n",
    "from bs4 import BeautifulSoup\n",
    "import requests"
   ]
  },
  {
   "cell_type": "code",
   "execution_count": 2,
   "metadata": {
    "collapsed": true
   },
   "outputs": [],
   "source": [
    "merged = pd.read_csv(\"D:/1 GSU Analytics/output1.csv\")"
   ]
  },
  {
   "cell_type": "code",
   "execution_count": 4,
   "metadata": {
    "collapsed": true
   },
   "outputs": [],
   "source": [
    "pd.set_option('max_columns', 100)"
   ]
  },
  {
   "cell_type": "code",
   "execution_count": 39,
   "metadata": {
    "collapsed": false
   },
   "outputs": [
    {
     "data": {
      "text/html": [
       "<div>\n",
       "<table border=\"1\" class=\"dataframe\">\n",
       "  <thead>\n",
       "    <tr style=\"text-align: right;\">\n",
       "      <th></th>\n",
       "      <th>Policy_Number</th>\n",
       "      <th>Risk_Location_Address_1</th>\n",
       "      <th>Risk_Location_City_Name</th>\n",
       "      <th>Named_Insured_State_Code</th>\n",
       "    </tr>\n",
       "  </thead>\n",
       "  <tbody>\n",
       "    <tr>\n",
       "      <th>0</th>\n",
       "      <td>1000373652161</td>\n",
       "      <td>8786 Parsons Blvd</td>\n",
       "      <td>Jamaica</td>\n",
       "      <td>NY</td>\n",
       "    </tr>\n",
       "    <tr>\n",
       "      <th>9</th>\n",
       "      <td>1000373651161</td>\n",
       "      <td>16923 Sierra Lakes Pkwy</td>\n",
       "      <td>Fontana</td>\n",
       "      <td>CA</td>\n",
       "    </tr>\n",
       "    <tr>\n",
       "      <th>21</th>\n",
       "      <td>1000373650161</td>\n",
       "      <td>3827 E Sunset Rd</td>\n",
       "      <td>Las Vegas</td>\n",
       "      <td>NV</td>\n",
       "    </tr>\n",
       "    <tr>\n",
       "      <th>32</th>\n",
       "      <td>1000373649161</td>\n",
       "      <td>9469 W Atlantic Blvd</td>\n",
       "      <td>Coral Springs</td>\n",
       "      <td>FL</td>\n",
       "    </tr>\n",
       "    <tr>\n",
       "      <th>41</th>\n",
       "      <td>1000373648161</td>\n",
       "      <td>2643 Windmill Pkwy</td>\n",
       "      <td>Henderson</td>\n",
       "      <td>NV</td>\n",
       "    </tr>\n",
       "  </tbody>\n",
       "</table>\n",
       "</div>"
      ],
      "text/plain": [
       "    Policy_Number  Risk_Location_Address_1 Risk_Location_City_Name  \\\n",
       "0   1000373652161        8786 Parsons Blvd                 Jamaica   \n",
       "9   1000373651161  16923 Sierra Lakes Pkwy                 Fontana   \n",
       "21  1000373650161         3827 E Sunset Rd               Las Vegas   \n",
       "32  1000373649161     9469 W Atlantic Blvd           Coral Springs   \n",
       "41  1000373648161       2643 Windmill Pkwy               Henderson   \n",
       "\n",
       "   Named_Insured_State_Code  \n",
       "0                        NY  \n",
       "9                        CA  \n",
       "21                       NV  \n",
       "32                       FL  \n",
       "41                       NV  "
      ]
     },
     "execution_count": 39,
     "metadata": {},
     "output_type": "execute_result"
    }
   ],
   "source": [
    "unique_address = merged.drop_duplicates('Risk_Location_Address_1')[['Policy_Number','Risk_Location_Address_1','Risk_Location_City_Name','Named_Insured_State_Code']]\n",
    "unique_address.head(5)"
   ]
  },
  {
   "cell_type": "code",
   "execution_count": 18,
   "metadata": {
    "collapsed": false
   },
   "outputs": [
    {
     "data": {
      "text/plain": [
       "index                       32912\n",
       "Risk_Location_Address_1     32912\n",
       "Risk_Location_City_Name     32912\n",
       "Named_Insured_State_Code    32912\n",
       "search_url                  32912\n",
       "dtype: int64"
      ]
     },
     "execution_count": 18,
     "metadata": {},
     "output_type": "execute_result"
    }
   ],
   "source": [
    "unique_address.count()"
   ]
  },
  {
   "cell_type": "code",
   "execution_count": 41,
   "metadata": {
    "collapsed": false
   },
   "outputs": [],
   "source": [
    "unique_address['search_url'] = \"www.google.com/search?q=propertyshark+\" + unique_address[\"Risk_Location_Address_1\"].str.replace(\" \",\"+\")+\"+\"+unique_address[\"Risk_Location_City_Name\"].str.replace(\" \",\"+\")+\"+\"+unique_address['Named_Insured_State_Code']\n",
    "unique_address = unique_address.reset_index()\n"
   ]
  },
  {
   "cell_type": "code",
   "execution_count": 42,
   "metadata": {
    "collapsed": false
   },
   "outputs": [
    {
     "data": {
      "text/plain": [
       "'www.google.com/search?q=propertyshark+2382+Brooklyn+Queens+Expy+W+Astoria+NY'"
      ]
     },
     "execution_count": 42,
     "metadata": {},
     "output_type": "execute_result"
    }
   ],
   "source": [
    "unique_address.count()\n",
    "unique_address.search_url[29]"
   ]
  },
  {
   "cell_type": "code",
   "execution_count": 54,
   "metadata": {
    "collapsed": true
   },
   "outputs": [],
   "source": [
    "def find_between( s, first, last ):\n",
    "    try:\n",
    "        start = s.index( first ) + len( first )\n",
    "        end = s.index( last, start )\n",
    "        return s[start:end]\n",
    "    except ValueError:\n",
    "        return \"\"\n",
    "\n",
    "def hit_page(only_url,p_id):\n",
    "    r  = requests.get(\"http://\" +only_url)\n",
    "\n",
    "    data = r.text\n",
    "\n",
    "    soup = BeautifulSoup(data)\n",
    "\n",
    "    tables = soup.findChildren('table', attrs={'class':'data'})\n",
    "    total_tables = len(tables)\n",
    "    \n",
    "    # This will get the first (and only) table. Your page may have more.\n",
    "    my_table = tables[total_tables - 2]\n",
    "    # You can find children with multiple tags by passing a list of strings\n",
    "    rows = my_table.findChildren(['th', 'td'])\n",
    "\n",
    "    for row in rows:\n",
    "        thdata = row.findChildren('th')\n",
    "        cells = row.findChildren('td',attrs={'class':'r_align'})\n",
    "        for cell in cells:\n",
    "            value = cell.string\n",
    "            print thdata[0].string\n",
    "            print value"
   ]
  },
  {
   "cell_type": "code",
   "execution_count": 55,
   "metadata": {
    "collapsed": false,
    "scrolled": true
   },
   "outputs": [
    {
     "name": "stdout",
     "output_type": "stream",
     "text": [
      "www.propertyshark.com/mason/Property/49506/741-Hunts-Point-Ave-Bronx-NY-10474\n",
      "Tax year\n",
      "2015/2016\n",
      "Current tax bill\n",
      "$72,455\n",
      "Projected tax bill\n",
      "$77,325\n"
     ]
    }
   ],
   "source": [
    "url = unique_address.search_url[20]\n",
    "p_id = unique_address.Policy_Number[20]\n",
    "r  = requests.get(\"http://\" +url)\n",
    "\n",
    "data = r.text\n",
    "\n",
    "soup = BeautifulSoup(data)\n",
    "i = 1\n",
    "\n",
    "for link in soup.findAll('h3', attrs={'class':'r'}):    \n",
    "    if(i == 1):\n",
    "        url = link.find('a')['href']\n",
    "        #print(link.find('a')['href'])\n",
    "    i= i +1   \n",
    "\n",
    "\n",
    "only_url = find_between( url, \"http://\", \"/&sa\" )  \n",
    "\n",
    "if(\"www.propertyshark.com/mason/Property\" in only_url):\n",
    "    print only_url\n",
    "    hit_page(only_url,p_id)"
   ]
  },
  {
   "cell_type": "code",
   "execution_count": 53,
   "metadata": {
    "collapsed": false
   },
   "outputs": [
    {
     "data": {
      "text/plain": [
       "2"
      ]
     },
     "execution_count": 53,
     "metadata": {},
     "output_type": "execute_result"
    }
   ],
   "source": [
    "dict1 = {'d1':{'a':1,'b':2}}\n",
    "dict2 = {'d2':{'c':3,'d':4}}\n",
    "dict1.update(dict2)\n",
    "len(dict1)"
   ]
  }
 ],
 "metadata": {
  "anaconda-cloud": {},
  "kernelspec": {
   "display_name": "Python [Root]",
   "language": "python",
   "name": "Python [Root]"
  },
  "language_info": {
   "codemirror_mode": {
    "name": "ipython",
    "version": 2
   },
   "file_extension": ".py",
   "mimetype": "text/x-python",
   "name": "python",
   "nbconvert_exporter": "python",
   "pygments_lexer": "ipython2",
   "version": "2.7.12"
  }
 },
 "nbformat": 4,
 "nbformat_minor": 0
}
